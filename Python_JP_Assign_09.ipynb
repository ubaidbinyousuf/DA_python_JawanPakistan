{
 "cells": [
  {
   "cell_type": "markdown",
   "id": "e45acee6-f35a-46a4-a7bc-210c435adf80",
   "metadata": {},
   "source": [
    "### Question 1\n",
    "\n",
    "Check Below\n",
    "- DataFrame Shape\n",
    "- Data Types\n",
    "- Duplicate records (remove if found)\n",
    "- Missing/Null Values (replace with median value)"
   ]
  },
  {
   "cell_type": "code",
   "execution_count": null,
   "id": "59ced546",
   "metadata": {},
   "outputs": [],
   "source": [
    "import pandas as pd\n",
    "\n",
    "# Manually cleaned column names\n",
    "df.columns = [\n",
    "    \"ID\", \"Name\", \"Age\", \"Gender\", \"Location\", \"School_Grade\", \"Daily_Usage_Hours\",\n",
    "    \"Sleep_Hours\", \"Academic_Performance\", \"Social_Interactions\", \"Exercise_Hours\",\n",
    "    \"Anxiety_Level\", \"Depression_Level\", \"Self_Esteem\", \"Parental_Control\", \"Screen_Time_Before_Bed\"\n",
    "]\n",
    "\n",
    "# Convert to correct data types\n",
    "numeric_cols = [\n",
    "    \"Age\", \"Daily_Usage_Hours\", \"Sleep_Hours\", \"Academic_Performance\", \"Social_Interactions\",\n",
    "    \"Exercise_Hours\", \"Anxiety_Level\", \"Depression_Level\", \"Self_Esteem\",\n",
    "    \"Parental_Control\", \"Screen_Time_Before_Bed\"\n",
    "]\n",
    "\n",
    "for col in numeric_cols:\n",
    "    df[col] = pd.to_numeric(df[col], errors=\"coerce\")\n",
    "\n",
    "# Remove duplicates\n",
    "df = df.drop_duplicates()\n",
    "\n",
    "# Fill missing values with median\n",
    "df[numeric_cols] = df[numeric_cols].fillna(df[numeric_cols].median())\n",
    "\n",
    "# Display output\n",
    "print(\" Shape:\", df.shape)\n",
    "print(\" Data Types:\\n\", df.dtypes)\n",
    "print(\" Nulls:\\n\", df[numeric_cols].isnull().sum())\n"
   ]
  },
  {
   "cell_type": "markdown",
   "id": "f36afbac-9396-4a0b-a846-29330158b27b",
   "metadata": {},
   "source": [
    "### Question 2:\n",
    "\n",
    "How does time spent on social media compare to time spent on education among teens?\n",
    "\n",
    "- Plot side-by-side histograms of Time on Social Media and Time on Education\n",
    "- Find and compare the median time for both.\n",
    "- Write simple comments to explain what the data shows"
   ]
  },
  {
   "cell_type": "code",
   "execution_count": null,
   "id": "c5dc0d02",
   "metadata": {},
   "outputs": [],
   "source": [
    "df['Time_on_Social_Media'] = pd.to_numeric(df['Time_on_Social_Media'], errors='coerce')\n",
    "df['Time_on_Education'] = pd.to_numeric(df['Time_on_Education'], errors='coerce')\n",
    "\n",
    "import matplotlib.pyplot as plt\n",
    "\n",
    "plt.figure(figsize=(12, 5))\n",
    "\n",
    "plt.subplot(1, 2, 1)\n",
    "df['Time_on_Social_Media'].hist(color='skyblue', edgecolor='black')\n",
    "plt.title('Time on Social Media')\n",
    "plt.xlabel('Hours')\n",
    "\n",
    "plt.subplot(1, 2, 2)\n",
    "df['Time_on_Education'].hist(color='orange', edgecolor='black')\n",
    "plt.title('Time on Education')\n",
    "plt.xlabel('Hours')\n",
    "\n",
    "plt.tight_layout()\n",
    "plt.show()\n",
    "\n",
    "print(\"Median Time on Social Media:\", df['Time_on_Social_Media'].median())\n",
    "print(\"Median Time on Education:\", df['Time_on_Education'].median())\n"
   ]
  },
  {
   "cell_type": "markdown",
   "id": "eb25bbb8-60f0-4fa0-9338-cf90e2501a58",
   "metadata": {},
   "source": [
    "### Question 3\n",
    "\n",
    "- How can we detect and identify outliers in Daily Usage Hours, Exercise Hours, and Screen Time Before Bed among teens using the IQR method?\n",
    "- Display the records corresponding to these outliers using boxplot.\n",
    "\n"
   ]
  },
  {
   "cell_type": "code",
   "execution_count": null,
   "id": "5ae1bf35",
   "metadata": {},
   "outputs": [],
   "source": [
    "import seaborn as sns\n",
    "\n",
    "def detect_outliers_iqr(column):\n",
    "    Q1 = df[column].quantile(0.25)\n",
    "    Q3 = df[column].quantile(0.75)\n",
    "    IQR = Q3 - Q1\n",
    "    return df[(df[column] < Q1 - 1.5 * IQR) | (df[column] > Q3 + 1.5 * IQR)]\n",
    "\n",
    "for col in ['Daily_Usage_Hours', 'Exercise_Hours', 'Screen_Time_Before_Bed']:\n",
    "    sns.boxplot(x=df[col])\n",
    "    plt.title(f\"Boxplot for {col}\")\n",
    "    plt.show()\n"
   ]
  },
  {
   "cell_type": "markdown",
   "id": "63121d71-d124-42c2-a561-0d06ae3a1790",
   "metadata": {},
   "source": [
    "### Question 4\n",
    "\n",
    "Analyze the correlation heatmap showing relationships between teen behaviors, screen usage, and mental health indicators.\n",
    "\n",
    "Focus your attention on the following numeric variables:\n",
    "\n",
    "- Daily_Usage_Hours, Sleep_Hours, Academic_Performance, Addiction_Level, Time_on_Social_Media,\n",
    "\n",
    "- Time_on_Gaming, Time_on_Education, Apps_Used_Daily, Anxiety_Level, Depression_Level,\n",
    "\n",
    "- Self_Esteem, Social_Interactions, Exercise_Hours, Screen_Time_Before_Bed,\n",
    "\n",
    "- Phone_Checks_Per_Day, Family_Communication, Weekend_Usage_Hours\n",
    "\n",
    "\n",
    "Identify two strong positive and two strong negative correlation involving any of the above variables.\n",
    "\n",
    "Explain briefly what these correlations might suggest about teen behavior, wellbeing, or digital habits.\n",
    "\n",
    "Use specific values from the heatmap to support your observation.\n",
    "\n"
   ]
  },
  {
   "cell_type": "code",
   "execution_count": null,
   "id": "c8d5e1fd",
   "metadata": {},
   "outputs": [],
   "source": [
    "selected_cols = [\n",
    "    'Daily_Usage_Hours', 'Sleep_Hours', 'Academic_Performance', 'Addiction_Level',\n",
    "    'Time_on_Social_Media', 'Time_on_Gaming', 'Time_on_Education', 'Apps_Used_Daily',\n",
    "    'Anxiety_Level', 'Depression_Level', 'Self_Esteem', 'Social_Interactions',\n",
    "    'Exercise_Hours', 'Screen_Time_Before_Bed', 'Phone_Checks_Per_Day',\n",
    "    'Family_Communication', 'Weekend_Usage_Hours'\n",
    "]\n",
    "\n",
    "for col in selected_cols:\n",
    "    df[col] = pd.to_numeric(df[col], errors='coerce')\n",
    "\n",
    "import seaborn as sns\n",
    "plt.figure(figsize=(14, 10))\n",
    "sns.heatmap(df[selected_cols].corr(), annot=True, fmt=\".2f\", cmap=\"coolwarm\")\n",
    "plt.title(\"Correlation Heatmap\")\n",
    "plt.show()\n"
   ]
  },
  {
   "cell_type": "markdown",
   "id": "8c468912-9178-4ac1-8374-e2e589e0ab63",
   "metadata": {},
   "source": [
    "### Question 5\n",
    "\n",
    "How does the average addiction level vary across different age groups? Show with line graph"
   ]
  },
  {
   "cell_type": "code",
   "execution_count": null,
   "id": "3592a6b8",
   "metadata": {},
   "outputs": [],
   "source": [
    "df['Addiction_Level'] = pd.to_numeric(df['Addiction_Level'], errors='coerce')\n",
    "df['Age'] = pd.to_numeric(df['Age'], errors='coerce')\n",
    "\n",
    "df['Age_Group'] = pd.cut(df['Age'], bins=[10, 13, 16, 19, 22], labels=['10-13', '14-16', '17-19', '20+'])\n",
    "\n",
    "group_avg = df.groupby('Age_Group')['Addiction_Level'].mean().reset_index()\n",
    "\n",
    "sns.lineplot(data=group_avg, x='Age_Group', y='Addiction_Level', marker='o')\n",
    "plt.title('Addiction Level by Age Group')\n",
    "plt.xlabel('Age Group')\n",
    "plt.ylabel('Avg Addiction Level')\n",
    "plt.grid(True)\n",
    "plt.show()\n"
   ]
  },
  {
   "cell_type": "code",
   "execution_count": null,
   "id": "3d3762d4-c051-451a-9ad9-bdf1bbf6eb16",
   "metadata": {},
   "outputs": [],
   "source": []
  }
 ],
 "metadata": {
  "kernelspec": {
   "display_name": "Python 3 (ipykernel)",
   "language": "python",
   "name": "python3"
  },
  "language_info": {
   "codemirror_mode": {
    "name": "ipython",
    "version": 3
   },
   "file_extension": ".py",
   "mimetype": "text/x-python",
   "name": "python",
   "nbconvert_exporter": "python",
   "pygments_lexer": "ipython3",
   "version": "3.12.7"
  }
 },
 "nbformat": 4,
 "nbformat_minor": 5
}
