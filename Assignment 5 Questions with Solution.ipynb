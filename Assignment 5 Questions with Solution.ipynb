{
 "cells": [
  {
   "cell_type": "code",
   "execution_count": 2,
   "id": "2e112e74-c8fe-4e09-93af-d354b44f292d",
   "metadata": {},
   "outputs": [
    {
     "name": "stdout",
     "output_type": "stream",
     "text": [
      "6\n"
     ]
    }
   ],
   "source": [
    "#Q1. Write a Python function called add_numbers that takes two numbers as arguments and returns their sum. Then,\n",
    "#test the function by calling it with two numbers of your choice.\n",
    "\n",
    "def add_numbers(a,b):\n",
    "    return a+b\n",
    "\n",
    "result = add_numbers(2,4)\n",
    "print(result)\n",
    "\n",
    "\n",
    "\n",
    "\n"
   ]
  },
  {
   "cell_type": "code",
   "execution_count": 13,
   "id": "7e2cc3f6-2463-4f09-b0fb-bd2d5eef13e1",
   "metadata": {},
   "outputs": [
    {
     "name": "stdout",
     "output_type": "stream",
     "text": [
      "$100 USD is equal to 28000 PKR at an exchange rate of 280.\n"
     ]
    }
   ],
   "source": [
    "#2. Create a Python function called currency_converter() that takes two arguments:\n",
    "#- amount: The amount of money to be converted (in USD).\n",
    "#- exchange_rate (default is 280): The conversion rate from USD to another currency (e.g., PKR). You can assume the default rate is #1 USD = 280 PKR.\n",
    "#The function should return a message showing how much the given amount is worth in the target currency (PKR).\n",
    "\n",
    "\n",
    "def currency_converter(amount, exchange_rate=280):\n",
    "    converted_amount = amount * exchange_rate\n",
    "    return f\"${amount} USD is equal to {converted_amount} PKR at an exchange rate of {exchange_rate}.\"\n",
    "\n",
    "# Test the function\n",
    "print(currency_converter(100))\n",
    "\n",
    "\n",
    "\n",
    "\n",
    "\n",
    "\n",
    "\n",
    "    "
   ]
  },
  {
   "cell_type": "code",
   "execution_count": 15,
   "id": "b1917d9d-c3c1-4c92-b6d0-05ed9de33095",
   "metadata": {},
   "outputs": [
    {
     "name": "stdout",
     "output_type": "stream",
     "text": [
      "Student Information:\n",
      "Name   : Ali\n",
      "Age    : 15\n",
      "Grade  : 10th\n",
      "School : City High School\n"
     ]
    }
   ],
   "source": [
    "#3. Write a Python function display_student_info that accepts the following details about a student:\n",
    "\n",
    "#- name (Keyword argument): The name of the student.\n",
    "#- age (Keyword argument): The age of the student.\n",
    "#- grade (Keyword argument): The grade the student is in.\n",
    "#- school (Keyword argument): The name of the school the student attends.\n",
    "\n",
    "\n",
    "def display_student_info(*, name, age, grade, school):\n",
    "    print(\"Student Information:\")\n",
    "    print(f\"Name   : {name}\")\n",
    "    print(f\"Age    : {age}\")\n",
    "    print(f\"Grade  : {grade}\")\n",
    "    print(f\"School : {school}\")\n",
    "\n",
    "# Example usage\n",
    "display_student_info(name=\"Ali\", age=15, grade=\"10th\", school=\"City High School\")\n"
   ]
  },
  {
   "cell_type": "code",
   "execution_count": 16,
   "id": "e13baea7-a664-45ab-9aa0-17fcb8baf434",
   "metadata": {},
   "outputs": [
    {
     "name": "stdout",
     "output_type": "stream",
     "text": [
      "Total price: 150\n"
     ]
    }
   ],
   "source": [
    "#4. Write a Python function calculate_price that accepts two positional arguments:\n",
    "\n",
    "#- price: The price of a single item.\n",
    "#- quantity: The number of items bought.\n",
    "#- The function should return the total price by multiplying price and quantity.\n",
    "\n",
    "def calculate_price(price, quantity):\n",
    "    total = price * quantity\n",
    "    return total\n",
    "\n",
    "# Example usage\n",
    "print(\"Total price:\", calculate_price(50, 3))\n"
   ]
  },
  {
   "cell_type": "code",
   "execution_count": 18,
   "id": "e4b4121e-501d-41a9-bbcd-bc211f5ec277",
   "metadata": {},
   "outputs": [
    {
     "name": "stdout",
     "output_type": "stream",
     "text": [
      "Product: Laptop\n",
      "Amazon: $800\n",
      "eBay: $750\n",
      "Walmart: $780\n"
     ]
    }
   ],
   "source": [
    "#5. Write a Python function display_prices that takes a product name and an arbitrary number of keyword arguments representing product prices. The function should display each product and its price.\n",
    "\n",
    "#Product: Laptop\n",
    "\n",
    "#Amazon: $800\n",
    "\n",
    "#eBay: $750\n",
    "\n",
    "#Walmart: $780\n",
    "\n",
    "\n",
    "def display_prices(product, **prices):\n",
    "    print(f\"Product: {product}\")\n",
    "    for seller, price in prices.items():\n",
    "        print(f\"{seller}: ${price}\")\n",
    "\n",
    "# Example usage\n",
    "display_prices(\"Laptop\", Amazon=800, eBay=750, Walmart=780)\n"
   ]
  },
  {
   "cell_type": "code",
   "execution_count": 28,
   "id": "a6e9d3ee-c6c9-4dd2-864e-4597d272c401",
   "metadata": {},
   "outputs": [
    {
     "name": "stdout",
     "output_type": "stream",
     "text": [
      "99\n"
     ]
    }
   ],
   "source": [
    "#6. Write a Python function find_max that takes any number of numerical arguments and returns the maximum number.\n",
    "\n",
    "def find_max(*args):\n",
    "    if not args:\n",
    "        return None  # or raise an error if you prefer\n",
    "    return max(args)\n",
    "\n",
    "# Example usage\n",
    "print(find_max(10, 4, 23, 5, 99, 12))\n"
   ]
  },
  {
   "cell_type": "code",
   "execution_count": 22,
   "id": "79ae6c57-7400-4af2-ba52-99da628f1e6c",
   "metadata": {},
   "outputs": [
    {
     "name": "stdout",
     "output_type": "stream",
     "text": [
      "Name: Alice\n",
      "Age: 30\n",
      "Other Details:\n",
      "  - address: 123 Main St\n",
      "  - phone: 123-456-7890\n",
      "  - email: alice@example.com\n"
     ]
    }
   ],
   "source": [
    "#7. Write a Python function display_info that takes:\n",
    "#Positional arguments for the name and age of a person.\n",
    "#Keyword arguments for other personal details like address, phone number, and email.\n",
    "#Example Output:\n",
    "\n",
    "#- Name: Alice\n",
    "#- Age: 30\n",
    "#- Other Details:\n",
    " #   - address: 123 Main St\n",
    " #   - phone: 123-456-7890\n",
    " #  - email: alice@example.com\n",
    "\n",
    "def display_info(name, age, **other_details):\n",
    "    print(f\"Name: {name}\")\n",
    "    print(f\"Age: {age}\")\n",
    "    if other_details:\n",
    "        print(\"Other Details:\")\n",
    "        for key, value in other_details.items():\n",
    "            print(f\"  - {key}: {value}\")\n",
    "\n",
    "# Example usage\n",
    "display_info(\"Alice\", 30, address=\"123 Main St\", phone=\"123-456-7890\", email=\"alice@example.com\")\n"
   ]
  },
  {
   "cell_type": "code",
   "execution_count": 24,
   "id": "38f4d767-01d4-43ee-a666-43faa4fc6331",
   "metadata": {},
   "outputs": [
    {
     "name": "stdout",
     "output_type": "stream",
     "text": [
      "In-stock product names: ['Laptop', 'Headphones', 'Smartwatch', 'Keyboard']\n",
      "Discounted prices: [('Laptop', 1080.0), ('Headphones', 120.0), ('Smartwatch', 300), ('Keyboard', 85.0)]\n"
     ]
    }
   ],
   "source": [
    "#8. products = [ {\"name\": \"Laptop\", \"price\": 1200, \"in_stock\": True, \"discount\": 0.1}, {\"name\": \"Smartphone\", \"price\": 800, \"in_stock\": False, \"discount\": 0.05}, {\"name\": \"Headphones\", \"price\": 150, \"in_stock\": True, \"discount\": 0.2}, {\"name\": \"Smartwatch\", \"price\": 300, \"in_stock\": True, \"discount\": 0}, {\"name\": \"Keyboard\", \"price\": 100, \"in_stock\": True, \"discount\": 0.15} ]\n",
    "\n",
    "#- Get names of in-stock products:\n",
    "\n",
    "#*Use list comprehension to generate a list of names for the products that are in stock.\n",
    "\n",
    "#- Calculate final prices for in-stock products after discount:\n",
    "\n",
    "#*For products that have a discount, calculate the final price by applying the discount.\n",
    "\n",
    "#*For products with no discount, keep the original price.\n",
    "\n",
    "#- Generate a list of tuples with the product name and its final price.\n",
    "\n",
    "#Example Output:\n",
    "\n",
    "#- In-stock product names: ['Laptop', 'Headphones', 'Smartwatch', 'Keyboard']\n",
    "#- Discounted prices: [('Laptop', 1080.0), ('Headphones', 120.0), ('Smartwatch', 300), ('Keyboard', 85.0)]\n",
    "\n",
    "products = [\n",
    "    {\"name\": \"Laptop\", \"price\": 1200, \"in_stock\": True, \"discount\": 0.1},\n",
    "    {\"name\": \"Smartphone\", \"price\": 800, \"in_stock\": False, \"discount\": 0.05},\n",
    "    {\"name\": \"Headphones\", \"price\": 150, \"in_stock\": True, \"discount\": 0.2},\n",
    "    {\"name\": \"Smartwatch\", \"price\": 300, \"in_stock\": True, \"discount\": 0},\n",
    "    {\"name\": \"Keyboard\", \"price\": 100, \"in_stock\": True, \"discount\": 0.15}\n",
    "]\n",
    "\n",
    "# 1. Get names of in-stock products\n",
    "in_stock_names = [p[\"name\"] for p in products if p[\"in_stock\"]]\n",
    "\n",
    "# 2 & 3. Calculate final prices and generate list of tuples (name, final price)\n",
    "discounted_prices = [\n",
    "    (p[\"name\"], p[\"price\"] * (1 - p[\"discount\"]) if p[\"discount\"] > 0 else p[\"price\"])\n",
    "    for p in products if p[\"in_stock\"]\n",
    "]\n",
    "\n",
    "print(\"In-stock product names:\", in_stock_names)\n",
    "print(\"Discounted prices:\", discounted_prices)\n"
   ]
  },
  {
   "cell_type": "code",
   "execution_count": 26,
   "id": "65a47fa3-0897-40e7-a800-ced5f4f32d9d",
   "metadata": {},
   "outputs": [
    {
     "name": "stdout",
     "output_type": "stream",
     "text": [
      "[2, 4, 6, 8, 10, 12, 14, 16, 18, 20]\n"
     ]
    }
   ],
   "source": [
    "#9.Create a list of even numbers between 1 and 20. (List Comprehension)\n",
    "\n",
    "even_numbers = [num for num in range(1, 21) if num % 2 == 0]\n",
    "print(even_numbers)\n"
   ]
  },
  {
   "cell_type": "code",
   "execution_count": 27,
   "id": "cb07a3a4-7ca8-47d7-9245-949544a46c75",
   "metadata": {},
   "outputs": [
    {
     "name": "stdout",
     "output_type": "stream",
     "text": [
      "[3, 5, 6, 9, 10, 15, 20, 30, 33]\n"
     ]
    }
   ],
   "source": [
    "#10. Create a list of numbers, generate a new list containing only the numbers that are divisible by 3 or 5. (List Comprehension)\n",
    "\n",
    "numbers = [1, 2, 3, 4, 5, 6, 7, 8, 9, 10, 15, 20, 22, 30, 33]\n",
    "divisible_by_3_or_5 = [num for num in numbers if num % 3 == 0 or num % 5 == 0]\n",
    "\n",
    "print(divisible_by_3_or_5)\n"
   ]
  }
 ],
 "metadata": {
  "kernelspec": {
   "display_name": "Python 3 (ipykernel)",
   "language": "python",
   "name": "python3"
  },
  "language_info": {
   "codemirror_mode": {
    "name": "ipython",
    "version": 3
   },
   "file_extension": ".py",
   "mimetype": "text/x-python",
   "name": "python",
   "nbconvert_exporter": "python",
   "pygments_lexer": "ipython3",
   "version": "3.12.7"
  }
 },
 "nbformat": 4,
 "nbformat_minor": 5
}
